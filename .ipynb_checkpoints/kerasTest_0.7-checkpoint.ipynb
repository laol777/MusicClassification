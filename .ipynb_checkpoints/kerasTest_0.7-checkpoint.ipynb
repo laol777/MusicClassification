{
 "cells": [
  {
   "cell_type": "code",
   "execution_count": 1,
   "metadata": {
    "collapsed": false
   },
   "outputs": [
    {
     "name": "stderr",
     "output_type": "stream",
     "text": [
      "Using Theano backend.\n",
      "Using gpu device 0: GeForce GTX 760 (CNMeM is enabled with initial size: 80.0% of memory, cuDNN 5105)\n",
      "/home/laol/env/local/lib/python2.7/site-packages/theano/sandbox/cuda/__init__.py:600: UserWarning: Your cuDNN version is more recent than the one Theano officially supports. If you see any problems, try updating Theano or downgrading cuDNN to version 5.\n",
      "  warnings.warn(warn)\n"
     ]
    },
    {
     "name": "stdout",
     "output_type": "stream",
     "text": [
      "(2400, 4)\n",
      "(2400, 128, 733)\n"
     ]
    }
   ],
   "source": [
    "from IPython.display import SVG\n",
    "from keras.utils.visualize_util import model_to_dot\n",
    "from keras.models import Sequential\n",
    "from keras.layers import Dense, Dropout, Activation, Flatten, Reshape\n",
    "from keras.layers import Convolution2D, MaxPooling2D\n",
    "from keras.optimizers import SGD, Adagrad\n",
    "from __future__ import division\n",
    "\n",
    "import numpy as np\n",
    "import os\n",
    "\n",
    "\n",
    "import cPickle as pickle\n",
    "\n",
    "\n",
    "name = \"targetSubsample.pickle\"\n",
    "with open(name, 'rb') as f:\n",
    "    y = pickle.load(f)\n",
    "    \n",
    "name = \"trainSubsample.pickle\"\n",
    "with open(name, 'rb') as f:\n",
    "    X = pickle.load(f)\n",
    "\n",
    "#Angry 1, 0, 0, 0\n",
    "#Sad 0, 1, 0, 0\n",
    "#Tense 0, 0, 1, 0\n",
    "#Happy 0, 0, 0, 1\n",
    "\n",
    "print y.shape\n",
    "print X.shape"
   ]
  },
  {
   "cell_type": "code",
   "execution_count": 15,
   "metadata": {
    "collapsed": true
   },
   "outputs": [],
   "source": [
    "w = 128\n",
    "h = 733\n",
    "nclasses = 4\n",
    "samplesCount = 2400"
   ]
  },
  {
   "cell_type": "code",
   "execution_count": null,
   "metadata": {
    "collapsed": true
   },
   "outputs": [],
   "source": []
  },
  {
   "cell_type": "code",
   "execution_count": 3,
   "metadata": {
    "collapsed": false
   },
   "outputs": [],
   "source": [
    "nKernel = 10\n",
    "\n",
    "model = Sequential()\n",
    "\n",
    "model.add(Convolution2D( nKernel, 5, 128, border_mode='same', activation='relu', init='glorot_uniform', input_shape=(1, 128, 733)))\n",
    "model.add(MaxPooling2D(pool_size = (1, 4)))\n",
    "model.add(Convolution2D( 2 * nKernel, 5, 128, border_mode='valid', activation='relu', init='glorot_uniform'))\n",
    "model.add(MaxPooling2D(pool_size = (2, 8)))\n",
    "\n",
    "model.add(Flatten())\n",
    "\n",
    "model.add(Dense(100, init='glorot_uniform', activation='relu'))\n",
    "model.add(Dropout(0.5))\n",
    "model.add(Dense(25, init='glorot_uniform', activation='relu'))\n",
    "model.add(Dropout(0.5))\n",
    "model.add(Dense(nclasses, init='glorot_uniform', activation='softmax'))"
   ]
  },
  {
   "cell_type": "code",
   "execution_count": 4,
   "metadata": {
    "collapsed": false,
    "scrolled": true
   },
   "outputs": [],
   "source": [
    "model.compile(loss='categorical_crossentropy', optimizer='sgd', metrics=['accuracy'])"
   ]
  },
  {
   "cell_type": "code",
   "execution_count": 5,
   "metadata": {
    "collapsed": false,
    "scrolled": false
   },
   "outputs": [
    {
     "data": {
      "image/svg+xml": [
       "<svg height=\"896pt\" viewBox=\"0.00 0.00 402.00 896.00\" width=\"402pt\" xmlns=\"http://www.w3.org/2000/svg\" xmlns:xlink=\"http://www.w3.org/1999/xlink\">\n",
       "<g class=\"graph\" id=\"graph0\" transform=\"scale(1 1) rotate(0) translate(4 892)\">\n",
       "<title>G</title>\n",
       "<polygon fill=\"white\" points=\"-4,4 -4,-892 398,-892 398,4 -4,4\" stroke=\"none\"/>\n",
       "<!-- 140100494900880 -->\n",
       "<g class=\"node\" id=\"node1\"><title>140100494900880</title>\n",
       "<polygon fill=\"none\" points=\"-0.5,-841 -0.5,-887 394.5,-887 394.5,-841 -0.5,-841\" stroke=\"black\"/>\n",
       "<text font-family=\"Times,serif\" font-size=\"14.00\" text-anchor=\"middle\" x=\"107\" y=\"-860.3\">convolution2d_input_1 (InputLayer)</text>\n",
       "<polyline fill=\"none\" points=\"214.5,-841 214.5,-887 \" stroke=\"black\"/>\n",
       "<text font-family=\"Times,serif\" font-size=\"14.00\" text-anchor=\"middle\" x=\"242\" y=\"-871.8\">input:</text>\n",
       "<polyline fill=\"none\" points=\"214.5,-864 269.5,-864 \" stroke=\"black\"/>\n",
       "<text font-family=\"Times,serif\" font-size=\"14.00\" text-anchor=\"middle\" x=\"242\" y=\"-848.8\">output:</text>\n",
       "<polyline fill=\"none\" points=\"269.5,-841 269.5,-887 \" stroke=\"black\"/>\n",
       "<text font-family=\"Times,serif\" font-size=\"14.00\" text-anchor=\"middle\" x=\"332\" y=\"-871.8\">(None, 1, 128, 733)</text>\n",
       "<polyline fill=\"none\" points=\"269.5,-864 394.5,-864 \" stroke=\"black\"/>\n",
       "<text font-family=\"Times,serif\" font-size=\"14.00\" text-anchor=\"middle\" x=\"332\" y=\"-848.8\">(None, 1, 128, 733)</text>\n",
       "</g>\n",
       "<!-- 140100494900688 -->\n",
       "<g class=\"node\" id=\"node2\"><title>140100494900688</title>\n",
       "<polygon fill=\"none\" points=\"1.5,-757 1.5,-803 392.5,-803 392.5,-757 1.5,-757\" stroke=\"black\"/>\n",
       "<text font-family=\"Times,serif\" font-size=\"14.00\" text-anchor=\"middle\" x=\"104\" y=\"-776.3\">convolution2d_1 (Convolution2D)</text>\n",
       "<polyline fill=\"none\" points=\"206.5,-757 206.5,-803 \" stroke=\"black\"/>\n",
       "<text font-family=\"Times,serif\" font-size=\"14.00\" text-anchor=\"middle\" x=\"234\" y=\"-787.8\">input:</text>\n",
       "<polyline fill=\"none\" points=\"206.5,-780 261.5,-780 \" stroke=\"black\"/>\n",
       "<text font-family=\"Times,serif\" font-size=\"14.00\" text-anchor=\"middle\" x=\"234\" y=\"-764.8\">output:</text>\n",
       "<polyline fill=\"none\" points=\"261.5,-757 261.5,-803 \" stroke=\"black\"/>\n",
       "<text font-family=\"Times,serif\" font-size=\"14.00\" text-anchor=\"middle\" x=\"327\" y=\"-787.8\">(None, 1, 128, 733)</text>\n",
       "<polyline fill=\"none\" points=\"261.5,-780 392.5,-780 \" stroke=\"black\"/>\n",
       "<text font-family=\"Times,serif\" font-size=\"14.00\" text-anchor=\"middle\" x=\"327\" y=\"-764.8\">(None, 10, 128, 733)</text>\n",
       "</g>\n",
       "<!-- 140100494900880&#45;&gt;140100494900688 -->\n",
       "<g class=\"edge\" id=\"edge1\"><title>140100494900880-&gt;140100494900688</title>\n",
       "<path d=\"M197,-840.593C197,-832.118 197,-822.297 197,-813.104\" fill=\"none\" stroke=\"black\"/>\n",
       "<polygon fill=\"black\" points=\"200.5,-813.096 197,-803.096 193.5,-813.096 200.5,-813.096\" stroke=\"black\"/>\n",
       "</g>\n",
       "<!-- 140100491625680 -->\n",
       "<g class=\"node\" id=\"node3\"><title>140100491625680</title>\n",
       "<polygon fill=\"none\" points=\"1,-673 1,-719 393,-719 393,-673 1,-673\" stroke=\"black\"/>\n",
       "<text font-family=\"Times,serif\" font-size=\"14.00\" text-anchor=\"middle\" x=\"104\" y=\"-692.3\">maxpooling2d_1 (MaxPooling2D)</text>\n",
       "<polyline fill=\"none\" points=\"207,-673 207,-719 \" stroke=\"black\"/>\n",
       "<text font-family=\"Times,serif\" font-size=\"14.00\" text-anchor=\"middle\" x=\"234.5\" y=\"-703.8\">input:</text>\n",
       "<polyline fill=\"none\" points=\"207,-696 262,-696 \" stroke=\"black\"/>\n",
       "<text font-family=\"Times,serif\" font-size=\"14.00\" text-anchor=\"middle\" x=\"234.5\" y=\"-680.8\">output:</text>\n",
       "<polyline fill=\"none\" points=\"262,-673 262,-719 \" stroke=\"black\"/>\n",
       "<text font-family=\"Times,serif\" font-size=\"14.00\" text-anchor=\"middle\" x=\"327.5\" y=\"-703.8\">(None, 10, 128, 733)</text>\n",
       "<polyline fill=\"none\" points=\"262,-696 393,-696 \" stroke=\"black\"/>\n",
       "<text font-family=\"Times,serif\" font-size=\"14.00\" text-anchor=\"middle\" x=\"327.5\" y=\"-680.8\">(None, 10, 128, 183)</text>\n",
       "</g>\n",
       "<!-- 140100494900688&#45;&gt;140100491625680 -->\n",
       "<g class=\"edge\" id=\"edge2\"><title>140100494900688-&gt;140100491625680</title>\n",
       "<path d=\"M197,-756.593C197,-748.118 197,-738.297 197,-729.104\" fill=\"none\" stroke=\"black\"/>\n",
       "<polygon fill=\"black\" points=\"200.5,-729.096 197,-719.096 193.5,-729.096 200.5,-729.096\" stroke=\"black\"/>\n",
       "</g>\n",
       "<!-- 140100494900752 -->\n",
       "<g class=\"node\" id=\"node4\"><title>140100494900752</title>\n",
       "<polygon fill=\"none\" points=\"1.5,-589 1.5,-635 392.5,-635 392.5,-589 1.5,-589\" stroke=\"black\"/>\n",
       "<text font-family=\"Times,serif\" font-size=\"14.00\" text-anchor=\"middle\" x=\"104\" y=\"-608.3\">convolution2d_2 (Convolution2D)</text>\n",
       "<polyline fill=\"none\" points=\"206.5,-589 206.5,-635 \" stroke=\"black\"/>\n",
       "<text font-family=\"Times,serif\" font-size=\"14.00\" text-anchor=\"middle\" x=\"234\" y=\"-619.8\">input:</text>\n",
       "<polyline fill=\"none\" points=\"206.5,-612 261.5,-612 \" stroke=\"black\"/>\n",
       "<text font-family=\"Times,serif\" font-size=\"14.00\" text-anchor=\"middle\" x=\"234\" y=\"-596.8\">output:</text>\n",
       "<polyline fill=\"none\" points=\"261.5,-589 261.5,-635 \" stroke=\"black\"/>\n",
       "<text font-family=\"Times,serif\" font-size=\"14.00\" text-anchor=\"middle\" x=\"327\" y=\"-619.8\">(None, 10, 128, 183)</text>\n",
       "<polyline fill=\"none\" points=\"261.5,-612 392.5,-612 \" stroke=\"black\"/>\n",
       "<text font-family=\"Times,serif\" font-size=\"14.00\" text-anchor=\"middle\" x=\"327\" y=\"-596.8\">(None, 20, 124, 56)</text>\n",
       "</g>\n",
       "<!-- 140100491625680&#45;&gt;140100494900752 -->\n",
       "<g class=\"edge\" id=\"edge3\"><title>140100491625680-&gt;140100494900752</title>\n",
       "<path d=\"M197,-672.593C197,-664.118 197,-654.297 197,-645.104\" fill=\"none\" stroke=\"black\"/>\n",
       "<polygon fill=\"black\" points=\"200.5,-645.096 197,-635.096 193.5,-645.096 200.5,-645.096\" stroke=\"black\"/>\n",
       "</g>\n",
       "<!-- 140100491212496 -->\n",
       "<g class=\"node\" id=\"node5\"><title>140100491212496</title>\n",
       "<polygon fill=\"none\" points=\"4,-505 4,-551 390,-551 390,-505 4,-505\" stroke=\"black\"/>\n",
       "<text font-family=\"Times,serif\" font-size=\"14.00\" text-anchor=\"middle\" x=\"107\" y=\"-524.3\">maxpooling2d_2 (MaxPooling2D)</text>\n",
       "<polyline fill=\"none\" points=\"210,-505 210,-551 \" stroke=\"black\"/>\n",
       "<text font-family=\"Times,serif\" font-size=\"14.00\" text-anchor=\"middle\" x=\"237.5\" y=\"-535.8\">input:</text>\n",
       "<polyline fill=\"none\" points=\"210,-528 265,-528 \" stroke=\"black\"/>\n",
       "<text font-family=\"Times,serif\" font-size=\"14.00\" text-anchor=\"middle\" x=\"237.5\" y=\"-512.8\">output:</text>\n",
       "<polyline fill=\"none\" points=\"265,-505 265,-551 \" stroke=\"black\"/>\n",
       "<text font-family=\"Times,serif\" font-size=\"14.00\" text-anchor=\"middle\" x=\"327.5\" y=\"-535.8\">(None, 20, 124, 56)</text>\n",
       "<polyline fill=\"none\" points=\"265,-528 390,-528 \" stroke=\"black\"/>\n",
       "<text font-family=\"Times,serif\" font-size=\"14.00\" text-anchor=\"middle\" x=\"327.5\" y=\"-512.8\">(None, 20, 62, 7)</text>\n",
       "</g>\n",
       "<!-- 140100494900752&#45;&gt;140100491212496 -->\n",
       "<g class=\"edge\" id=\"edge4\"><title>140100494900752-&gt;140100491212496</title>\n",
       "<path d=\"M197,-588.593C197,-580.118 197,-570.297 197,-561.104\" fill=\"none\" stroke=\"black\"/>\n",
       "<polygon fill=\"black\" points=\"200.5,-561.096 197,-551.096 193.5,-561.096 200.5,-561.096\" stroke=\"black\"/>\n",
       "</g>\n",
       "<!-- 140100491184848 -->\n",
       "<g class=\"node\" id=\"node6\"><title>140100491184848</title>\n",
       "<polygon fill=\"none\" points=\"56.5,-421 56.5,-467 337.5,-467 337.5,-421 56.5,-421\" stroke=\"black\"/>\n",
       "<text font-family=\"Times,serif\" font-size=\"14.00\" text-anchor=\"middle\" x=\"114\" y=\"-440.3\">flatten_1 (Flatten)</text>\n",
       "<polyline fill=\"none\" points=\"171.5,-421 171.5,-467 \" stroke=\"black\"/>\n",
       "<text font-family=\"Times,serif\" font-size=\"14.00\" text-anchor=\"middle\" x=\"199\" y=\"-451.8\">input:</text>\n",
       "<polyline fill=\"none\" points=\"171.5,-444 226.5,-444 \" stroke=\"black\"/>\n",
       "<text font-family=\"Times,serif\" font-size=\"14.00\" text-anchor=\"middle\" x=\"199\" y=\"-428.8\">output:</text>\n",
       "<polyline fill=\"none\" points=\"226.5,-421 226.5,-467 \" stroke=\"black\"/>\n",
       "<text font-family=\"Times,serif\" font-size=\"14.00\" text-anchor=\"middle\" x=\"282\" y=\"-451.8\">(None, 20, 62, 7)</text>\n",
       "<polyline fill=\"none\" points=\"226.5,-444 337.5,-444 \" stroke=\"black\"/>\n",
       "<text font-family=\"Times,serif\" font-size=\"14.00\" text-anchor=\"middle\" x=\"282\" y=\"-428.8\">(None, 8680)</text>\n",
       "</g>\n",
       "<!-- 140100491212496&#45;&gt;140100491184848 -->\n",
       "<g class=\"edge\" id=\"edge5\"><title>140100491212496-&gt;140100491184848</title>\n",
       "<path d=\"M197,-504.593C197,-496.118 197,-486.297 197,-477.104\" fill=\"none\" stroke=\"black\"/>\n",
       "<polygon fill=\"black\" points=\"200.5,-477.096 197,-467.096 193.5,-477.096 200.5,-477.096\" stroke=\"black\"/>\n",
       "</g>\n",
       "<!-- 140100491213008 -->\n",
       "<g class=\"node\" id=\"node7\"><title>140100491213008</title>\n",
       "<polygon fill=\"none\" points=\"71.5,-337 71.5,-383 322.5,-383 322.5,-337 71.5,-337\" stroke=\"black\"/>\n",
       "<text font-family=\"Times,serif\" font-size=\"14.00\" text-anchor=\"middle\" x=\"125\" y=\"-356.3\">dense_1 (Dense)</text>\n",
       "<polyline fill=\"none\" points=\"178.5,-337 178.5,-383 \" stroke=\"black\"/>\n",
       "<text font-family=\"Times,serif\" font-size=\"14.00\" text-anchor=\"middle\" x=\"206\" y=\"-367.8\">input:</text>\n",
       "<polyline fill=\"none\" points=\"178.5,-360 233.5,-360 \" stroke=\"black\"/>\n",
       "<text font-family=\"Times,serif\" font-size=\"14.00\" text-anchor=\"middle\" x=\"206\" y=\"-344.8\">output:</text>\n",
       "<polyline fill=\"none\" points=\"233.5,-337 233.5,-383 \" stroke=\"black\"/>\n",
       "<text font-family=\"Times,serif\" font-size=\"14.00\" text-anchor=\"middle\" x=\"278\" y=\"-367.8\">(None, 8680)</text>\n",
       "<polyline fill=\"none\" points=\"233.5,-360 322.5,-360 \" stroke=\"black\"/>\n",
       "<text font-family=\"Times,serif\" font-size=\"14.00\" text-anchor=\"middle\" x=\"278\" y=\"-344.8\">(None, 100)</text>\n",
       "</g>\n",
       "<!-- 140100491184848&#45;&gt;140100491213008 -->\n",
       "<g class=\"edge\" id=\"edge6\"><title>140100491184848-&gt;140100491213008</title>\n",
       "<path d=\"M197,-420.593C197,-412.118 197,-402.297 197,-393.104\" fill=\"none\" stroke=\"black\"/>\n",
       "<polygon fill=\"black\" points=\"200.5,-393.096 197,-383.096 193.5,-393.096 200.5,-393.096\" stroke=\"black\"/>\n",
       "</g>\n",
       "<!-- 140100491211728 -->\n",
       "<g class=\"node\" id=\"node8\"><title>140100491211728</title>\n",
       "<polygon fill=\"none\" points=\"63,-253 63,-299 331,-299 331,-253 63,-253\" stroke=\"black\"/>\n",
       "<text font-family=\"Times,serif\" font-size=\"14.00\" text-anchor=\"middle\" x=\"128\" y=\"-272.3\">dropout_1 (Dropout)</text>\n",
       "<polyline fill=\"none\" points=\"193,-253 193,-299 \" stroke=\"black\"/>\n",
       "<text font-family=\"Times,serif\" font-size=\"14.00\" text-anchor=\"middle\" x=\"220.5\" y=\"-283.8\">input:</text>\n",
       "<polyline fill=\"none\" points=\"193,-276 248,-276 \" stroke=\"black\"/>\n",
       "<text font-family=\"Times,serif\" font-size=\"14.00\" text-anchor=\"middle\" x=\"220.5\" y=\"-260.8\">output:</text>\n",
       "<polyline fill=\"none\" points=\"248,-253 248,-299 \" stroke=\"black\"/>\n",
       "<text font-family=\"Times,serif\" font-size=\"14.00\" text-anchor=\"middle\" x=\"289.5\" y=\"-283.8\">(None, 100)</text>\n",
       "<polyline fill=\"none\" points=\"248,-276 331,-276 \" stroke=\"black\"/>\n",
       "<text font-family=\"Times,serif\" font-size=\"14.00\" text-anchor=\"middle\" x=\"289.5\" y=\"-260.8\">(None, 100)</text>\n",
       "</g>\n",
       "<!-- 140100491213008&#45;&gt;140100491211728 -->\n",
       "<g class=\"edge\" id=\"edge7\"><title>140100491213008-&gt;140100491211728</title>\n",
       "<path d=\"M197,-336.593C197,-328.118 197,-318.297 197,-309.104\" fill=\"none\" stroke=\"black\"/>\n",
       "<polygon fill=\"black\" points=\"200.5,-309.096 197,-299.096 193.5,-309.096 200.5,-309.096\" stroke=\"black\"/>\n",
       "</g>\n",
       "<!-- 140100423140944 -->\n",
       "<g class=\"node\" id=\"node9\"><title>140100423140944</title>\n",
       "<polygon fill=\"none\" points=\"74.5,-169 74.5,-215 319.5,-215 319.5,-169 74.5,-169\" stroke=\"black\"/>\n",
       "<text font-family=\"Times,serif\" font-size=\"14.00\" text-anchor=\"middle\" x=\"128\" y=\"-188.3\">dense_2 (Dense)</text>\n",
       "<polyline fill=\"none\" points=\"181.5,-169 181.5,-215 \" stroke=\"black\"/>\n",
       "<text font-family=\"Times,serif\" font-size=\"14.00\" text-anchor=\"middle\" x=\"209\" y=\"-199.8\">input:</text>\n",
       "<polyline fill=\"none\" points=\"181.5,-192 236.5,-192 \" stroke=\"black\"/>\n",
       "<text font-family=\"Times,serif\" font-size=\"14.00\" text-anchor=\"middle\" x=\"209\" y=\"-176.8\">output:</text>\n",
       "<polyline fill=\"none\" points=\"236.5,-169 236.5,-215 \" stroke=\"black\"/>\n",
       "<text font-family=\"Times,serif\" font-size=\"14.00\" text-anchor=\"middle\" x=\"278\" y=\"-199.8\">(None, 100)</text>\n",
       "<polyline fill=\"none\" points=\"236.5,-192 319.5,-192 \" stroke=\"black\"/>\n",
       "<text font-family=\"Times,serif\" font-size=\"14.00\" text-anchor=\"middle\" x=\"278\" y=\"-176.8\">(None, 25)</text>\n",
       "</g>\n",
       "<!-- 140100491211728&#45;&gt;140100423140944 -->\n",
       "<g class=\"edge\" id=\"edge8\"><title>140100491211728-&gt;140100423140944</title>\n",
       "<path d=\"M197,-252.593C197,-244.118 197,-234.297 197,-225.104\" fill=\"none\" stroke=\"black\"/>\n",
       "<polygon fill=\"black\" points=\"200.5,-225.096 197,-215.096 193.5,-225.096 200.5,-225.096\" stroke=\"black\"/>\n",
       "</g>\n",
       "<!-- 140100423031696 -->\n",
       "<g class=\"node\" id=\"node10\"><title>140100423031696</title>\n",
       "<polygon fill=\"none\" points=\"66.5,-85 66.5,-131 327.5,-131 327.5,-85 66.5,-85\" stroke=\"black\"/>\n",
       "<text font-family=\"Times,serif\" font-size=\"14.00\" text-anchor=\"middle\" x=\"131.5\" y=\"-104.3\">dropout_2 (Dropout)</text>\n",
       "<polyline fill=\"none\" points=\"196.5,-85 196.5,-131 \" stroke=\"black\"/>\n",
       "<text font-family=\"Times,serif\" font-size=\"14.00\" text-anchor=\"middle\" x=\"224\" y=\"-115.8\">input:</text>\n",
       "<polyline fill=\"none\" points=\"196.5,-108 251.5,-108 \" stroke=\"black\"/>\n",
       "<text font-family=\"Times,serif\" font-size=\"14.00\" text-anchor=\"middle\" x=\"224\" y=\"-92.8\">output:</text>\n",
       "<polyline fill=\"none\" points=\"251.5,-85 251.5,-131 \" stroke=\"black\"/>\n",
       "<text font-family=\"Times,serif\" font-size=\"14.00\" text-anchor=\"middle\" x=\"289.5\" y=\"-115.8\">(None, 25)</text>\n",
       "<polyline fill=\"none\" points=\"251.5,-108 327.5,-108 \" stroke=\"black\"/>\n",
       "<text font-family=\"Times,serif\" font-size=\"14.00\" text-anchor=\"middle\" x=\"289.5\" y=\"-92.8\">(None, 25)</text>\n",
       "</g>\n",
       "<!-- 140100423140944&#45;&gt;140100423031696 -->\n",
       "<g class=\"edge\" id=\"edge9\"><title>140100423140944-&gt;140100423031696</title>\n",
       "<path d=\"M197,-168.593C197,-160.118 197,-150.297 197,-141.104\" fill=\"none\" stroke=\"black\"/>\n",
       "<polygon fill=\"black\" points=\"200.5,-141.096 197,-131.096 193.5,-141.096 200.5,-141.096\" stroke=\"black\"/>\n",
       "</g>\n",
       "<!-- 140100422982864 -->\n",
       "<g class=\"node\" id=\"node11\"><title>140100422982864</title>\n",
       "<polygon fill=\"none\" points=\"78,-1 78,-47 316,-47 316,-1 78,-1\" stroke=\"black\"/>\n",
       "<text font-family=\"Times,serif\" font-size=\"14.00\" text-anchor=\"middle\" x=\"131.5\" y=\"-20.3\">dense_3 (Dense)</text>\n",
       "<polyline fill=\"none\" points=\"185,-1 185,-47 \" stroke=\"black\"/>\n",
       "<text font-family=\"Times,serif\" font-size=\"14.00\" text-anchor=\"middle\" x=\"212.5\" y=\"-31.8\">input:</text>\n",
       "<polyline fill=\"none\" points=\"185,-24 240,-24 \" stroke=\"black\"/>\n",
       "<text font-family=\"Times,serif\" font-size=\"14.00\" text-anchor=\"middle\" x=\"212.5\" y=\"-8.8\">output:</text>\n",
       "<polyline fill=\"none\" points=\"240,-1 240,-47 \" stroke=\"black\"/>\n",
       "<text font-family=\"Times,serif\" font-size=\"14.00\" text-anchor=\"middle\" x=\"278\" y=\"-31.8\">(None, 25)</text>\n",
       "<polyline fill=\"none\" points=\"240,-24 316,-24 \" stroke=\"black\"/>\n",
       "<text font-family=\"Times,serif\" font-size=\"14.00\" text-anchor=\"middle\" x=\"278\" y=\"-8.8\">(None, 4)</text>\n",
       "</g>\n",
       "<!-- 140100423031696&#45;&gt;140100422982864 -->\n",
       "<g class=\"edge\" id=\"edge10\"><title>140100423031696-&gt;140100422982864</title>\n",
       "<path d=\"M197,-84.5931C197,-76.1177 197,-66.2974 197,-57.104\" fill=\"none\" stroke=\"black\"/>\n",
       "<polygon fill=\"black\" points=\"200.5,-57.0958 197,-47.0959 193.5,-57.0959 200.5,-57.0958\" stroke=\"black\"/>\n",
       "</g>\n",
       "</g>\n",
       "</svg>"
      ],
      "text/plain": [
       "<IPython.core.display.SVG object>"
      ]
     },
     "execution_count": 5,
     "metadata": {},
     "output_type": "execute_result"
    }
   ],
   "source": [
    "SVG(model_to_dot(model, show_layer_names=True, show_shapes=True).create(prog='dot', format='svg'))"
   ]
  },
  {
   "cell_type": "code",
   "execution_count": null,
   "metadata": {
    "collapsed": true
   },
   "outputs": [],
   "source": []
  },
  {
   "cell_type": "code",
   "execution_count": null,
   "metadata": {
    "collapsed": true
   },
   "outputs": [],
   "source": []
  },
  {
   "cell_type": "code",
   "execution_count": null,
   "metadata": {
    "collapsed": false,
    "scrolled": false
   },
   "outputs": [],
   "source": []
  },
  {
   "cell_type": "code",
   "execution_count": null,
   "metadata": {
    "collapsed": false
   },
   "outputs": [],
   "source": []
  },
  {
   "cell_type": "code",
   "execution_count": 16,
   "metadata": {
    "collapsed": true
   },
   "outputs": [],
   "source": [
    "def shuffle(x, y, samplesCount):\n",
    "    indexes = np.arange(samplesCount)\n",
    "    np.random.shuffle(indexes)\n",
    "    x_shuffeled = np.array(x)\n",
    "    y_shuffeled = np.array(y)\n",
    "\n",
    "\n",
    "    for i in range(len(x)):\n",
    "        x_shuffeled[i] = x[indexes[i]]\n",
    "        y_shuffeled[i] = y[indexes[i]]\n",
    "\n",
    "    return x_shuffeled, y_shuffeled"
   ]
  },
  {
   "cell_type": "code",
   "execution_count": 17,
   "metadata": {
    "collapsed": false
   },
   "outputs": [],
   "source": [
    "X, y = shuffle(X, y, samplesCount)"
   ]
  },
  {
   "cell_type": "code",
   "execution_count": 13,
   "metadata": {
    "collapsed": false
   },
   "outputs": [
    {
     "data": {
      "text/plain": [
       "(2400, 128, 733)"
      ]
     },
     "execution_count": 13,
     "metadata": {},
     "output_type": "execute_result"
    }
   ],
   "source": [
    "X.shape"
   ]
  },
  {
   "cell_type": "code",
   "execution_count": 14,
   "metadata": {
    "collapsed": false
   },
   "outputs": [
    {
     "data": {
      "text/plain": [
       "(2400, 4)"
      ]
     },
     "execution_count": 14,
     "metadata": {},
     "output_type": "execute_result"
    }
   ],
   "source": [
    "y.shape"
   ]
  },
  {
   "cell_type": "code",
   "execution_count": 85,
   "metadata": {
    "collapsed": true
   },
   "outputs": [],
   "source": [
    "Xtest = np.concatenate((X[20:25], X[45:50]))\n",
    "Xtest = np.concatenate((Xtest , X[70:75]))\n",
    "Xtest = np.concatenate((Xtest, X[95:100]))"
   ]
  },
  {
   "cell_type": "code",
   "execution_count": 86,
   "metadata": {
    "collapsed": true
   },
   "outputs": [],
   "source": [
    "ytest = np.concatenate((np.array([[1,0,0,0],]*5), np.array([[0,1,0,0],]*5)))\n",
    "ytest = np.concatenate((ytest, np.array([[0,0,1,0],]*5)))\n",
    "ytest = np.concatenate((ytest, np.array([[0,0,0,1],]*5)))"
   ]
  },
  {
   "cell_type": "code",
   "execution_count": null,
   "metadata": {
    "collapsed": false,
    "scrolled": true
   },
   "outputs": [
    {
     "name": "stdout",
     "output_type": "stream",
     "text": [
      "Train on 1980 samples, validate on 220 samples\n",
      "Epoch 1/10\n",
      " 480/1980 [======>.......................] - ETA: 44s - loss: 1.3300 - acc: 0.3521"
     ]
    }
   ],
   "source": [
    "countInTrain = 2200\n",
    "model.fit(X.reshape(samplesCount, 1, 128, 733)[:countInTrain], y.reshape(samplesCount, 4)[:countInTrain],\\\n",
    "          batch_size=30, nb_epoch=10, validation_split=0.1, show_accuracy=True, shuffle=True, verbose=1)"
   ]
  },
  {
   "cell_type": "code",
   "execution_count": null,
   "metadata": {
    "collapsed": false
   },
   "outputs": [],
   "source": []
  },
  {
   "cell_type": "code",
   "execution_count": null,
   "metadata": {
    "collapsed": false,
    "scrolled": true
   },
   "outputs": [],
   "source": [
    "def SetMaxProbabilityToOne(array):\n",
    "    return map(lambda x: 1 if(x == max(array)) else 0, array)\n",
    "\n",
    "\n",
    "def GetAccuracy(X_test, y_test):\n",
    "    predict = model.predict(X_test.reshape(len(X_test), 1, 128, 733))\n",
    "    countTrue = 0\n",
    "    for i in range(len(predict)):\n",
    "        predict[i] = SetMaxProbabilityToOne(predict[i])\n",
    "        countTrue += 1 if (sum(predict[i] == y_test[i]) == nclasses) else 0\n",
    "    print countTrue / len(predict)"
   ]
  },
  {
   "cell_type": "code",
   "execution_count": 23,
   "metadata": {
    "collapsed": false
   },
   "outputs": [
    {
     "name": "stdout",
     "output_type": "stream",
     "text": [
      "0.355\n"
     ]
    }
   ],
   "source": [
    "yValidation = y[countInTrain:samplesCount]\n",
    "XValidation = X[countInTrain:samplesCount]\n",
    "\n",
    "GetAccuracy(XValidation, yValidation)"
   ]
  },
  {
   "cell_type": "code",
   "execution_count": 12,
   "metadata": {
    "collapsed": false
   },
   "outputs": [],
   "source": [
    "from sklearn.model_selection import StratifiedKFold"
   ]
  },
  {
   "cell_type": "code",
   "execution_count": 24,
   "metadata": {
    "collapsed": false
   },
   "outputs": [
    {
     "data": {
      "text/plain": [
       "5"
      ]
     },
     "execution_count": 24,
     "metadata": {},
     "output_type": "execute_result"
    }
   ],
   "source": [
    "skf = StratifiedKFold(n_splits=5)\n",
    "skf.get_n_splits(y)"
   ]
  },
  {
   "cell_type": "code",
   "execution_count": null,
   "metadata": {
    "collapsed": false
   },
   "outputs": [],
   "source": []
  },
  {
   "cell_type": "code",
   "execution_count": 32,
   "metadata": {
    "collapsed": false
   },
   "outputs": [
    {
     "ename": "IndexError",
     "evalue": "too many indices for array",
     "output_type": "error",
     "traceback": [
      "\u001b[0;31m---------------------------------------------------------------------------\u001b[0m",
      "\u001b[0;31mIndexError\u001b[0m                                Traceback (most recent call last)",
      "\u001b[0;32m<ipython-input-32-25663451a416>\u001b[0m in \u001b[0;36m<module>\u001b[0;34m()\u001b[0m\n\u001b[0;32m----> 1\u001b[0;31m \u001b[0;32mfor\u001b[0m \u001b[0mi\u001b[0m \u001b[0;32min\u001b[0m \u001b[0mskf\u001b[0m\u001b[0;34m.\u001b[0m\u001b[0msplit\u001b[0m\u001b[0;34m(\u001b[0m\u001b[0mX\u001b[0m\u001b[0;34m,\u001b[0m \u001b[0my\u001b[0m\u001b[0;34m)\u001b[0m\u001b[0;34m:\u001b[0m\u001b[0;34m\u001b[0m\u001b[0m\n\u001b[0m\u001b[1;32m      2\u001b[0m     \u001b[0;32mpass\u001b[0m\u001b[0;34m\u001b[0m\u001b[0m\n",
      "\u001b[0;32m/home/laol/env/local/lib/python2.7/site-packages/sklearn/model_selection/_split.pyc\u001b[0m in \u001b[0;36msplit\u001b[0;34m(self, X, y, groups)\u001b[0m\n\u001b[1;32m    319\u001b[0m                                                              n_samples))\n\u001b[1;32m    320\u001b[0m \u001b[0;34m\u001b[0m\u001b[0m\n\u001b[0;32m--> 321\u001b[0;31m         \u001b[0;32mfor\u001b[0m \u001b[0mtrain\u001b[0m\u001b[0;34m,\u001b[0m \u001b[0mtest\u001b[0m \u001b[0;32min\u001b[0m \u001b[0msuper\u001b[0m\u001b[0;34m(\u001b[0m\u001b[0m_BaseKFold\u001b[0m\u001b[0;34m,\u001b[0m \u001b[0mself\u001b[0m\u001b[0;34m)\u001b[0m\u001b[0;34m.\u001b[0m\u001b[0msplit\u001b[0m\u001b[0;34m(\u001b[0m\u001b[0mX\u001b[0m\u001b[0;34m,\u001b[0m \u001b[0my\u001b[0m\u001b[0;34m,\u001b[0m \u001b[0mgroups\u001b[0m\u001b[0;34m)\u001b[0m\u001b[0;34m:\u001b[0m\u001b[0;34m\u001b[0m\u001b[0m\n\u001b[0m\u001b[1;32m    322\u001b[0m             \u001b[0;32myield\u001b[0m \u001b[0mtrain\u001b[0m\u001b[0;34m,\u001b[0m \u001b[0mtest\u001b[0m\u001b[0;34m\u001b[0m\u001b[0m\n\u001b[1;32m    323\u001b[0m \u001b[0;34m\u001b[0m\u001b[0m\n",
      "\u001b[0;32m/home/laol/env/local/lib/python2.7/site-packages/sklearn/model_selection/_split.pyc\u001b[0m in \u001b[0;36msplit\u001b[0;34m(self, X, y, groups)\u001b[0m\n\u001b[1;32m     88\u001b[0m         \u001b[0mX\u001b[0m\u001b[0;34m,\u001b[0m \u001b[0my\u001b[0m\u001b[0;34m,\u001b[0m \u001b[0mgroups\u001b[0m \u001b[0;34m=\u001b[0m \u001b[0mindexable\u001b[0m\u001b[0;34m(\u001b[0m\u001b[0mX\u001b[0m\u001b[0;34m,\u001b[0m \u001b[0my\u001b[0m\u001b[0;34m,\u001b[0m \u001b[0mgroups\u001b[0m\u001b[0;34m)\u001b[0m\u001b[0;34m\u001b[0m\u001b[0m\n\u001b[1;32m     89\u001b[0m         \u001b[0mindices\u001b[0m \u001b[0;34m=\u001b[0m \u001b[0mnp\u001b[0m\u001b[0;34m.\u001b[0m\u001b[0marange\u001b[0m\u001b[0;34m(\u001b[0m\u001b[0m_num_samples\u001b[0m\u001b[0;34m(\u001b[0m\u001b[0mX\u001b[0m\u001b[0;34m)\u001b[0m\u001b[0;34m)\u001b[0m\u001b[0;34m\u001b[0m\u001b[0m\n\u001b[0;32m---> 90\u001b[0;31m         \u001b[0;32mfor\u001b[0m \u001b[0mtest_index\u001b[0m \u001b[0;32min\u001b[0m \u001b[0mself\u001b[0m\u001b[0;34m.\u001b[0m\u001b[0m_iter_test_masks\u001b[0m\u001b[0;34m(\u001b[0m\u001b[0mX\u001b[0m\u001b[0;34m,\u001b[0m \u001b[0my\u001b[0m\u001b[0;34m,\u001b[0m \u001b[0mgroups\u001b[0m\u001b[0;34m)\u001b[0m\u001b[0;34m:\u001b[0m\u001b[0;34m\u001b[0m\u001b[0m\n\u001b[0m\u001b[1;32m     91\u001b[0m             \u001b[0mtrain_index\u001b[0m \u001b[0;34m=\u001b[0m \u001b[0mindices\u001b[0m\u001b[0;34m[\u001b[0m\u001b[0mnp\u001b[0m\u001b[0;34m.\u001b[0m\u001b[0mlogical_not\u001b[0m\u001b[0;34m(\u001b[0m\u001b[0mtest_index\u001b[0m\u001b[0;34m)\u001b[0m\u001b[0;34m]\u001b[0m\u001b[0;34m\u001b[0m\u001b[0m\n\u001b[1;32m     92\u001b[0m             \u001b[0mtest_index\u001b[0m \u001b[0;34m=\u001b[0m \u001b[0mindices\u001b[0m\u001b[0;34m[\u001b[0m\u001b[0mtest_index\u001b[0m\u001b[0;34m]\u001b[0m\u001b[0;34m\u001b[0m\u001b[0m\n",
      "\u001b[0;32m/home/laol/env/local/lib/python2.7/site-packages/sklearn/model_selection/_split.pyc\u001b[0m in \u001b[0;36m_iter_test_masks\u001b[0;34m(self, X, y, groups)\u001b[0m\n\u001b[1;32m    606\u001b[0m \u001b[0;34m\u001b[0m\u001b[0m\n\u001b[1;32m    607\u001b[0m     \u001b[0;32mdef\u001b[0m \u001b[0m_iter_test_masks\u001b[0m\u001b[0;34m(\u001b[0m\u001b[0mself\u001b[0m\u001b[0;34m,\u001b[0m \u001b[0mX\u001b[0m\u001b[0;34m,\u001b[0m \u001b[0my\u001b[0m\u001b[0;34m=\u001b[0m\u001b[0mNone\u001b[0m\u001b[0;34m,\u001b[0m \u001b[0mgroups\u001b[0m\u001b[0;34m=\u001b[0m\u001b[0mNone\u001b[0m\u001b[0;34m)\u001b[0m\u001b[0;34m:\u001b[0m\u001b[0;34m\u001b[0m\u001b[0m\n\u001b[0;32m--> 608\u001b[0;31m         \u001b[0mtest_folds\u001b[0m \u001b[0;34m=\u001b[0m \u001b[0mself\u001b[0m\u001b[0;34m.\u001b[0m\u001b[0m_make_test_folds\u001b[0m\u001b[0;34m(\u001b[0m\u001b[0mX\u001b[0m\u001b[0;34m,\u001b[0m \u001b[0my\u001b[0m\u001b[0;34m)\u001b[0m\u001b[0;34m\u001b[0m\u001b[0m\n\u001b[0m\u001b[1;32m    609\u001b[0m         \u001b[0;32mfor\u001b[0m \u001b[0mi\u001b[0m \u001b[0;32min\u001b[0m \u001b[0mrange\u001b[0m\u001b[0;34m(\u001b[0m\u001b[0mself\u001b[0m\u001b[0;34m.\u001b[0m\u001b[0mn_splits\u001b[0m\u001b[0;34m)\u001b[0m\u001b[0;34m:\u001b[0m\u001b[0;34m\u001b[0m\u001b[0m\n\u001b[1;32m    610\u001b[0m             \u001b[0;32myield\u001b[0m \u001b[0mtest_folds\u001b[0m \u001b[0;34m==\u001b[0m \u001b[0mi\u001b[0m\u001b[0;34m\u001b[0m\u001b[0m\n",
      "\u001b[0;32m/home/laol/env/local/lib/python2.7/site-packages/sklearn/model_selection/_split.pyc\u001b[0m in \u001b[0;36m_make_test_folds\u001b[0;34m(self, X, y, groups)\u001b[0m\n\u001b[1;32m    593\u001b[0m         \u001b[0;32mfor\u001b[0m \u001b[0mtest_fold_indices\u001b[0m\u001b[0;34m,\u001b[0m \u001b[0mper_cls_splits\u001b[0m \u001b[0;32min\u001b[0m \u001b[0menumerate\u001b[0m\u001b[0;34m(\u001b[0m\u001b[0mzip\u001b[0m\u001b[0;34m(\u001b[0m\u001b[0;34m*\u001b[0m\u001b[0mper_cls_cvs\u001b[0m\u001b[0;34m)\u001b[0m\u001b[0;34m)\u001b[0m\u001b[0;34m:\u001b[0m\u001b[0;34m\u001b[0m\u001b[0m\n\u001b[1;32m    594\u001b[0m             \u001b[0;32mfor\u001b[0m \u001b[0mcls\u001b[0m\u001b[0;34m,\u001b[0m \u001b[0;34m(\u001b[0m\u001b[0m_\u001b[0m\u001b[0;34m,\u001b[0m \u001b[0mtest_split\u001b[0m\u001b[0;34m)\u001b[0m \u001b[0;32min\u001b[0m \u001b[0mzip\u001b[0m\u001b[0;34m(\u001b[0m\u001b[0munique_y\u001b[0m\u001b[0;34m,\u001b[0m \u001b[0mper_cls_splits\u001b[0m\u001b[0;34m)\u001b[0m\u001b[0;34m:\u001b[0m\u001b[0;34m\u001b[0m\u001b[0m\n\u001b[0;32m--> 595\u001b[0;31m                 \u001b[0mcls_test_folds\u001b[0m \u001b[0;34m=\u001b[0m \u001b[0mtest_folds\u001b[0m\u001b[0;34m[\u001b[0m\u001b[0my\u001b[0m \u001b[0;34m==\u001b[0m \u001b[0mcls\u001b[0m\u001b[0;34m]\u001b[0m\u001b[0;34m\u001b[0m\u001b[0m\n\u001b[0m\u001b[1;32m    596\u001b[0m                 \u001b[0;31m# the test split can be too big because we used\u001b[0m\u001b[0;34m\u001b[0m\u001b[0;34m\u001b[0m\u001b[0m\n\u001b[1;32m    597\u001b[0m                 \u001b[0;31m# KFold(...).split(X[:max(c, n_splits)]) when data is not 100%\u001b[0m\u001b[0;34m\u001b[0m\u001b[0;34m\u001b[0m\u001b[0m\n",
      "\u001b[0;31mIndexError\u001b[0m: too many indices for array"
     ]
    }
   ],
   "source": [
    "for i in skf.split(X, y):\n",
    "    pass"
   ]
  },
  {
   "cell_type": "code",
   "execution_count": 28,
   "metadata": {
    "collapsed": false
   },
   "outputs": [
    {
     "data": {
      "text/plain": [
       "[[[0, 1, 2, 3, 4, 5, 6, 7, 8, 9, 10, 11, 12, 13, 14, 15, 16, 17, 18, 19]]]"
      ]
     },
     "execution_count": 28,
     "metadata": {},
     "output_type": "execute_result"
    }
   ],
   "source": [
    "index"
   ]
  },
  {
   "cell_type": "code",
   "execution_count": 25,
   "metadata": {
    "collapsed": false
   },
   "outputs": [
    {
     "ename": "TypeError",
     "evalue": "split() takes at least 3 arguments (2 given)",
     "output_type": "error",
     "traceback": [
      "\u001b[0;31m---------------------------------------------------------------------------\u001b[0m",
      "\u001b[0;31mTypeError\u001b[0m                                 Traceback (most recent call last)",
      "\u001b[0;32m<ipython-input-25-7b2c4a59ea0c>\u001b[0m in \u001b[0;36m<module>\u001b[0;34m()\u001b[0m\n\u001b[0;32m----> 1\u001b[0;31m \u001b[0;32mfor\u001b[0m \u001b[0mtrain_index\u001b[0m\u001b[0;34m,\u001b[0m \u001b[0mtest_index\u001b[0m \u001b[0;32min\u001b[0m \u001b[0mskf\u001b[0m\u001b[0;34m.\u001b[0m\u001b[0msplit\u001b[0m\u001b[0;34m(\u001b[0m\u001b[0my\u001b[0m\u001b[0;34m)\u001b[0m\u001b[0;34m:\u001b[0m\u001b[0;34m\u001b[0m\u001b[0m\n\u001b[0m\u001b[1;32m      2\u001b[0m     \u001b[0;32mprint\u001b[0m \u001b[0mtest_index\u001b[0m\u001b[0;34m\u001b[0m\u001b[0m\n",
      "\u001b[0;31mTypeError\u001b[0m: split() takes at least 3 arguments (2 given)"
     ]
    }
   ],
   "source": [
    "for train_index, test_index in skf.split(y):\n",
    "    print test_index"
   ]
  },
  {
   "cell_type": "code",
   "execution_count": 26,
   "metadata": {
    "collapsed": false
   },
   "outputs": [
    {
     "data": {
      "text/plain": [
       "(100, 128, 733)"
      ]
     },
     "execution_count": 26,
     "metadata": {},
     "output_type": "execute_result"
    }
   ],
   "source": [
    "X.shape"
   ]
  },
  {
   "cell_type": "code",
   "execution_count": null,
   "metadata": {
    "collapsed": false
   },
   "outputs": [],
   "source": []
  },
  {
   "cell_type": "code",
   "execution_count": null,
   "metadata": {
    "collapsed": true
   },
   "outputs": [],
   "source": []
  }
 ],
 "metadata": {
  "kernelspec": {
   "display_name": "Python 2",
   "language": "python",
   "name": "python2"
  },
  "language_info": {
   "codemirror_mode": {
    "name": "ipython",
    "version": 2
   },
   "file_extension": ".py",
   "mimetype": "text/x-python",
   "name": "python",
   "nbconvert_exporter": "python",
   "pygments_lexer": "ipython2",
   "version": "2.7.6"
  }
 },
 "nbformat": 4,
 "nbformat_minor": 1
}
