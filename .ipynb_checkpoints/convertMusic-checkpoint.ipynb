{
 "metadata": {
  "kernelspec": {
   "display_name": "Python 2",
   "language": "python",
   "name": "python2"
  },
  "language_info": {
   "codemirror_mode": {
    "name": "ipython",
    "version": 2
   },
   "file_extension": ".py",
   "mimetype": "text/x-python",
   "name": "python",
   "nbconvert_exporter": "python",
   "pygments_lexer": "ipython2",
   "version": "2.7.12"
  },
  "name": "",
  "signature": "sha256:49ea3404228578341e0d7a110a7039206d2644610991478357ba5fee0b369559"
 },
 "nbformat": 3,
 "nbformat_minor": 0,
 "worksheets": [
  {
   "cells": [
    {
     "cell_type": "heading",
     "level": 1,
     "metadata": {
      "collapsed": false
     },
     "source": [
      "\u0423\u0434\u0430\u043b\u0435\u043d\u0438\u0435 \u0438\u0437 \u0432\u044b\u043a\u0430\u0447\u0435\u043d\u043d\u043e\u0439 \u0431\u0430\u0437\u044b watermark"
     ]
    },
    {
     "cell_type": "code",
     "collapsed": false,
     "input": [
      "import glob, os\n",
      "import pydub\n",
      "from pydub import AudioSegment\n",
      "import pandas as pd"
     ],
     "language": "python",
     "metadata": {},
     "outputs": [],
     "prompt_number": 1
    },
    {
     "cell_type": "code",
     "collapsed": false,
     "input": [],
     "language": "python",
     "metadata": {},
     "outputs": [],
     "prompt_number": 2
    },
    {
     "cell_type": "code",
     "collapsed": true,
     "input": [
      "def RemoveWatermarks(nameFolder):\n",
      "    pathForClass = \"/media/sf_share/pressfoto/data/\" + nameFolder\n",
      "    os.chdir(pathForClass)\n",
      "    second = 1000\n",
      "    for file in glob.glob(\"*.mp3\"):\n",
      "        sound = AudioSegment.from_mp3(pathForClass + \"/\" + file)\n",
      "        sound.set_channels(1)\n",
      "        tmp = pydub.audio_segment.AudioSegment.empty()\n",
      "\n",
      "        index = 10000\n",
      "\n",
      "        while((index + 17000)  < len(sound)):\n",
      "            tmp = tmp + sound[index: (index + 17000)]\n",
      "\n",
      "            index += 20000\n",
      "        print(file)\n",
      "        tmp.export(\"___\" + file.replace(\"mp3\", \"wav\"), format=\"wav\")\n"
     ],
     "language": "python",
     "metadata": {},
     "outputs": [],
     "prompt_number": 3
    },
    {
     "cell_type": "code",
     "collapsed": false,
     "input": [
      "RemoveWatermarks(\"Happy\")"
     ],
     "language": "python",
     "metadata": {
      "scrolled": true
     },
     "outputs": [
      {
       "output_type": "stream",
       "stream": "stdout",
       "text": [
        "say-it-out-loud-katie-herzig-musicbed.mp3\n",
        "schoolyard-king-instrumental-sonny-cleveland-musicbed.mp3"
       ]
      },
      {
       "output_type": "stream",
       "stream": "stdout",
       "text": [
        "\n",
        "sea-of-stars-luke-atencio-musicbed.mp3"
       ]
      },
      {
       "output_type": "stream",
       "stream": "stdout",
       "text": [
        "\n",
        "see-me-see-you-instrumental-bess-rogers-musicbed.mp3"
       ]
      },
      {
       "output_type": "stream",
       "stream": "stdout",
       "text": [
        "\n",
        "simple-things-dexter-britain-musicbed.mp3"
       ]
      },
      {
       "output_type": "stream",
       "stream": "stdout",
       "text": [
        "\n",
        "sing-instrumental-benjamin-dunn-musicbed.mp3"
       ]
      },
      {
       "output_type": "stream",
       "stream": "stdout",
       "text": [
        "\n",
        "sitting-by-my-window-five-tinos-musicbed.mp3"
       ]
      },
      {
       "output_type": "stream",
       "stream": "stdout",
       "text": [
        "\n",
        "skys-the-limit-the-lady-i-musicbed.mp3"
       ]
      },
      {
       "output_type": "stream",
       "stream": "stdout",
       "text": [
        "\n",
        "skyward-instrumental-scott-brendo-musicbed.mp3"
       ]
      },
      {
       "output_type": "stream",
       "stream": "stdout",
       "text": [
        "\n",
        "soft-shoe-steven-gutheinz-musicbed.mp3"
       ]
      },
      {
       "output_type": "stream",
       "stream": "stdout",
       "text": [
        "\n",
        "somebodys-everything-instrumental-volunteer-musicbed.mp3"
       ]
      },
      {
       "output_type": "stream",
       "stream": "stdout",
       "text": [
        "\n",
        "something-beautiful-needtobreathe-musicbed.mp3"
       ]
      },
      {
       "output_type": "stream",
       "stream": "stdout",
       "text": [
        "\n",
        "stranded-in-paradise-gyom-musicbed.mp3"
       ]
      },
      {
       "output_type": "stream",
       "stream": "stdout",
       "text": [
        "\n",
        "summer-holiday-bill-justis-musicbed.mp3"
       ]
      },
      {
       "output_type": "stream",
       "stream": "stdout",
       "text": [
        "\n",
        "summer-skin-wildwood-musicbed.mp3"
       ]
      },
      {
       "output_type": "stream",
       "stream": "stdout",
       "text": [
        "\n",
        "swingin-around-tom-salta-musicbed.mp3"
       ]
      },
      {
       "output_type": "stream",
       "stream": "stdout",
       "text": [
        "\n",
        "the-changing-of-seasons-tony-anderson-musicbed.mp3"
       ]
      },
      {
       "output_type": "stream",
       "stream": "stdout",
       "text": [
        "\n",
        "the-fathers-heart-tony-anderson-musicbed.mp3"
       ]
      },
      {
       "output_type": "stream",
       "stream": "stdout",
       "text": [
        "\n",
        "the-great-adventure-zachary-david-musicbed.mp3"
       ]
      },
      {
       "output_type": "stream",
       "stream": "stdout",
       "text": [
        "\n",
        "the-last-tangerine-tokyo-speirs-musicbed.mp3"
       ]
      },
      {
       "output_type": "stream",
       "stream": "stdout",
       "text": [
        "\n",
        "the-touch-instrumental-welshly-arms-musicbed.mp3"
       ]
      },
      {
       "output_type": "stream",
       "stream": "stdout",
       "text": [
        "\n",
        "this-right-here-nyzzy-nyce-musicbed.mp3"
       ]
      },
      {
       "output_type": "stream",
       "stream": "stdout",
       "text": [
        "\n",
        "til-the-night-runs-out-graham-colton-musicbed.mp3"
       ]
      },
      {
       "output_type": "stream",
       "stream": "stdout",
       "text": [
        "\n",
        "together-instrumental-animal-island-musicbed.mp3"
       ]
      },
      {
       "output_type": "stream",
       "stream": "stdout",
       "text": [
        "\n",
        "varberg-u137-musicbed.mp3"
       ]
      },
      {
       "output_type": "stream",
       "stream": "stdout",
       "text": [
        "\n",
        "victory-rose-lights-motion-musicbed.mp3"
       ]
      },
      {
       "output_type": "stream",
       "stream": "stdout",
       "text": [
        "\n",
        "village-cry-super-duper-musicbed.mp3"
       ]
      },
      {
       "output_type": "stream",
       "stream": "stdout",
       "text": [
        "\n",
        "walking-my-way-tyler-williams-musicbed.mp3"
       ]
      },
      {
       "output_type": "stream",
       "stream": "stdout",
       "text": [
        "\n",
        "we-are-the-dreamers-mode-musicbed(1).mp3"
       ]
      },
      {
       "output_type": "stream",
       "stream": "stdout",
       "text": [
        "\n",
        "we-are-the-dreamers-mode-musicbed.mp3"
       ]
      },
      {
       "output_type": "stream",
       "stream": "stdout",
       "text": [
        "\n",
        "we-belong-together-instrumental-vows-musicbed.mp3"
       ]
      },
      {
       "output_type": "stream",
       "stream": "stdout",
       "text": [
        "\n",
        "we-belong-together-with-oohs-ahhs-instrumental-vows-musicbed.mp3"
       ]
      },
      {
       "output_type": "stream",
       "stream": "stdout",
       "text": [
        "\n",
        "when-your-kingdom-comes-the-silver-pages-musicbed.mp3"
       ]
      },
      {
       "output_type": "stream",
       "stream": "stdout",
       "text": [
        "\n",
        "wherever-you-go-cameron-ernst-musicbed.mp3"
       ]
      },
      {
       "output_type": "stream",
       "stream": "stdout",
       "text": [
        "\n",
        "white-tim-halperin-musicbed.mp3"
       ]
      },
      {
       "output_type": "stream",
       "stream": "stdout",
       "text": [
        "\n",
        "wild-awake-arcadia-musicbed.mp3"
       ]
      },
      {
       "output_type": "stream",
       "stream": "stdout",
       "text": [
        "\n",
        "wildfire-jenna-basso-musicbed.mp3"
       ]
      },
      {
       "output_type": "stream",
       "stream": "stdout",
       "text": [
        "\n",
        "yearbook-adrian-disch-musicbed.mp3"
       ]
      },
      {
       "output_type": "stream",
       "stream": "stdout",
       "text": [
        "\n",
        "you-are-home-instrumental-robert-shirey-kelly-musicbed.mp3"
       ]
      },
      {
       "output_type": "stream",
       "stream": "stdout",
       "text": [
        "\n",
        "youre-that-way-jon-troast-musicbed.mp3"
       ]
      },
      {
       "output_type": "stream",
       "stream": "stdout",
       "text": [
        "\n",
        "a-cascade-of-trembling-stars-orbit-over-luna-musicbed.mp3"
       ]
      },
      {
       "output_type": "stream",
       "stream": "stdout",
       "text": [
        "\n",
        "a-lifetime-jo-blankenburg-musicbed.mp3"
       ]
      },
      {
       "output_type": "stream",
       "stream": "stdout",
       "text": [
        "\n",
        "abundance-blake-ewing-musicbed.mp3"
       ]
      },
      {
       "output_type": "stream",
       "stream": "stdout",
       "text": [
        "\n",
        "adventurers-holley-maher-musicbed.mp3"
       ]
      },
      {
       "output_type": "stream",
       "stream": "stdout",
       "text": [
        "\n",
        "aint-no-place-like-home-katrina-stone-musicbed.mp3"
       ]
      },
      {
       "output_type": "stream",
       "stream": "stdout",
       "text": [
        "\n",
        "all-good-zi-musicbed.mp3"
       ]
      },
      {
       "output_type": "stream",
       "stream": "stdout",
       "text": [
        "\n",
        "all-over-the-world-instrumental-midnight-riot-musicbed.mp3"
       ]
      },
      {
       "output_type": "stream",
       "stream": "stdout",
       "text": [
        "\n",
        "always-been-you-instrumental-marie-hines-musicbed.mp3"
       ]
      },
      {
       "output_type": "stream",
       "stream": "stdout",
       "text": [
        "\n",
        "ameri-can-i-young-collective-musicbed.mp3"
       ]
      },
      {
       "output_type": "stream",
       "stream": "stdout",
       "text": [
        "\n",
        "antlers-no-oohs-ahhs-lights-motion-musicbed.mp3"
       ]
      },
      {
       "output_type": "stream",
       "stream": "stdout",
       "text": [
        "\n",
        "ariane-tony-anderson-musicbed.mp3"
       ]
      },
      {
       "output_type": "stream",
       "stream": "stdout",
       "text": [
        "\n",
        "as-soon-as-he-hears-davis-harwell-musicbed.mp3"
       ]
      },
      {
       "output_type": "stream",
       "stream": "stdout",
       "text": [
        "\n",
        "as-the-world-goes-away-lights-motion-musicbed.mp3"
       ]
      },
      {
       "output_type": "stream",
       "stream": "stdout",
       "text": [
        "\n",
        "awake-jordan-critz-musicbed.mp3"
       ]
      },
      {
       "output_type": "stream",
       "stream": "stdout",
       "text": [
        "\n",
        "baby-doll-eddie-bush-musicbed.mp3"
       ]
      },
      {
       "output_type": "stream",
       "stream": "stdout",
       "text": [
        "\n",
        "belong-here-instrumental-handsome-and-gretyl-musicbed.mp3"
       ]
      },
      {
       "output_type": "stream",
       "stream": "stdout",
       "text": [
        "\n",
        "benny-goodman-saint-motel-musicbed.mp3"
       ]
      },
      {
       "output_type": "stream",
       "stream": "stdout",
       "text": [
        "\n",
        "better-halves-instrumental-humming-house-musicbed.mp3"
       ]
      },
      {
       "output_type": "stream",
       "stream": "stdout",
       "text": [
        "\n",
        "bodum-steven-gutheinz-musicbed.mp3"
       ]
      },
      {
       "output_type": "stream",
       "stream": "stdout",
       "text": [
        "\n",
        "brothers-penny-sparrow-musicbed.mp3"
       ]
      },
      {
       "output_type": "stream",
       "stream": "stdout",
       "text": [
        "\n",
        "butch-instrumental-saint-motel-musicbed.mp3"
       ]
      },
      {
       "output_type": "stream",
       "stream": "stdout",
       "text": [
        "\n",
        "butterfly-event-ryan-taubert-musicbed.mp3"
       ]
      },
      {
       "output_type": "stream",
       "stream": "stdout",
       "text": [
        "\n",
        "cartwheels-with-oohs-ahhs-instrumental-ambrosia-musicbed.mp3"
       ]
      },
      {
       "output_type": "stream",
       "stream": "stdout",
       "text": [
        "\n",
        "cascade-mode-musicbed.mp3"
       ]
      },
      {
       "output_type": "stream",
       "stream": "stdout",
       "text": [
        "\n",
        "crazyboutcha-wendy-child-musicbed.mp3"
       ]
      },
      {
       "output_type": "stream",
       "stream": "stdout",
       "text": [
        "\n",
        "dance-acoustic-tim-halperin-musicbed.mp3"
       ]
      },
      {
       "output_type": "stream",
       "stream": "stdout",
       "text": [
        "\n",
        "dancing-in-the-dawn-tossing-copper-musicbed.mp3"
       ]
      },
      {
       "output_type": "stream",
       "stream": "stdout",
       "text": [
        "\n",
        "dancing-to-the-beat-clarence-murray-musicbed.mp3"
       ]
      },
      {
       "output_type": "stream",
       "stream": "stdout",
       "text": [
        "\n",
        "dark-massive-christopher-crawford-musicbed.mp3"
       ]
      },
      {
       "output_type": "stream",
       "stream": "stdout",
       "text": [
        "\n",
        "dreamer-kaptan-musicbed.mp3"
       ]
      },
      {
       "output_type": "stream",
       "stream": "stdout",
       "text": [
        "\n",
        "dreams-of-you-marz-ferrer-musicbed.mp3"
       ]
      },
      {
       "output_type": "stream",
       "stream": "stdout",
       "text": [
        "\n",
        "dusk-settles-the-silver-pages-musicbed.mp3"
       ]
      },
      {
       "output_type": "stream",
       "stream": "stdout",
       "text": [
        "\n",
        "eden-jordan-critz-musicbed.mp3"
       ]
      },
      {
       "output_type": "stream",
       "stream": "stdout",
       "text": [
        "\n",
        "enough-instrumental-zi-musicbed.mp3"
       ]
      },
      {
       "output_type": "stream",
       "stream": "stdout",
       "text": [
        "\n",
        "exponential-david-a-molina-musicbed.mp3"
       ]
      },
      {
       "output_type": "stream",
       "stream": "stdout",
       "text": [
        "\n",
        "farther-away-james-childs-musicbed.mp3"
       ]
      },
      {
       "output_type": "stream",
       "stream": "stdout",
       "text": [
        "\n",
        "figma-steven-gutheinz-musicbed.mp3"
       ]
      },
      {
       "output_type": "stream",
       "stream": "stdout",
       "text": [
        "\n",
        "first-walk-triads-musicbed.mp3"
       ]
      },
      {
       "output_type": "stream",
       "stream": "stdout",
       "text": [
        "\n",
        "fishin-poly-musicbed.mp3"
       ]
      },
      {
       "output_type": "stream",
       "stream": "stdout",
       "text": [
        "\n",
        "fly-on-forever-is-better-with-you-humming-house-musicbed.mp3"
       ]
      },
      {
       "output_type": "stream",
       "stream": "stdout",
       "text": [
        "\n",
        "found-a-heart-instrumental-emily-hearn-musicbed.mp3"
       ]
      },
      {
       "output_type": "stream",
       "stream": "stdout",
       "text": [
        "\n",
        "free-sound-the-ocean-musicbed.mp3"
       ]
      },
      {
       "output_type": "stream",
       "stream": "stdout",
       "text": [
        "\n",
        "get-up-get-up-zach-berkman-musicbed.mp3"
       ]
      },
      {
       "output_type": "stream",
       "stream": "stdout",
       "text": [
        "\n",
        "good-day-planes-musicbed.mp3"
       ]
      },
      {
       "output_type": "stream",
       "stream": "stdout",
       "text": [
        "\n",
        "gospel-special-bill-carpenter-musicbed.mp3"
       ]
      },
      {
       "output_type": "stream",
       "stream": "stdout",
       "text": [
        "\n",
        "grace-tony-anderson-musicbed.mp3"
       ]
      },
      {
       "output_type": "stream",
       "stream": "stdout",
       "text": [
        "\n",
        "hands-hearts-acoustic-version-with-oohs-ahhs-instrumental-katrina-stone-musicbed.mp3"
       ]
      },
      {
       "output_type": "stream",
       "stream": "stdout",
       "text": [
        "\n",
        "heart-of-gold-no-oohs-ahhs-instrumental-planes-musicbed.mp3"
       ]
      },
      {
       "output_type": "stream",
       "stream": "stdout",
       "text": [
        "\n",
        "here-we-go-again-instrumental-johnny-stimson-musicbed.mp3"
       ]
      },
      {
       "output_type": "stream",
       "stream": "stdout",
       "text": [
        "\n",
        "here-we-go-again-johnny-stimson-musicbed.mp3"
       ]
      },
      {
       "output_type": "stream",
       "stream": "stdout",
       "text": [
        "\n",
        "hiding-place-instrumental-holley-maher-musicbed.mp3"
       ]
      },
      {
       "output_type": "stream",
       "stream": "stdout",
       "text": [
        "\n",
        "home-away-from-home-canopy-climbers-musicbed.mp3"
       ]
      },
      {
       "output_type": "stream",
       "stream": "stdout",
       "text": [
        "\n",
        "human-too-instrumental-katie-herzig-musicbed.mp3"
       ]
      },
      {
       "output_type": "stream",
       "stream": "stdout",
       "text": [
        "\n",
        "i-get-to-be-the-one-acoustic-jj-heller-musicbed.mp3"
       ]
      },
      {
       "output_type": "stream",
       "stream": "stdout",
       "text": [
        "\n",
        "i-have-you-i-do-instrumental-holley-maher-musicbed.mp3"
       ]
      },
      {
       "output_type": "stream",
       "stream": "stdout",
       "text": [
        "\n",
        "i-like-you-feat-olivia-rudeen-jake-etheridge-musicbed.mp3"
       ]
      },
      {
       "output_type": "stream",
       "stream": "stdout",
       "text": [
        "\n",
        "into-the-wild-dustin-lau-musicbed.mp3"
       ]
      },
      {
       "output_type": "stream",
       "stream": "stdout",
       "text": [
        "\n",
        "its-all-good-shelly-fraley-musicbed.mp3"
       ]
      },
      {
       "output_type": "stream",
       "stream": "stdout",
       "text": [
        "\n",
        "just-around-the-corner-david-a-molina-musicbed.mp3"
       ]
      },
      {
       "output_type": "stream",
       "stream": "stdout",
       "text": [
        "\n",
        "just-being-with-you-edwin-bruce-musicbed.mp3"
       ]
      },
      {
       "output_type": "stream",
       "stream": "stdout",
       "text": [
        "\n",
        "la-la-love-animal-island-musicbed.mp3"
       ]
      },
      {
       "output_type": "stream",
       "stream": "stdout",
       "text": [
        "\n",
        "larger-than-life-feat-brandon-skeie-chris-king-miia-musicbed.mp3"
       ]
      },
      {
       "output_type": "stream",
       "stream": "stdout",
       "text": [
        "\n",
        "leap-of-faith-volunteer-musicbed.mp3"
       ]
      },
      {
       "output_type": "stream",
       "stream": "stdout",
       "text": [
        "\n",
        "lemonade-instrumental-matt-wertz-musicbed.mp3"
       ]
      },
      {
       "output_type": "stream",
       "stream": "stdout",
       "text": [
        "\n",
        "lemonade-matt-wertz-musicbed.mp3"
       ]
      },
      {
       "output_type": "stream",
       "stream": "stdout",
       "text": [
        "\n",
        "let-go-stripped-version-kaptan-musicbed.mp3"
       ]
      },
      {
       "output_type": "stream",
       "stream": "stdout",
       "text": [
        "\n",
        "let-love-be-chelsea-lankes-musicbed.mp3"
       ]
      },
      {
       "output_type": "stream",
       "stream": "stdout",
       "text": [
        "\n",
        "light-up-tim-halperin-musicbed.mp3"
       ]
      },
      {
       "output_type": "stream",
       "stream": "stdout",
       "text": [
        "\n",
        "like-ships-need-the-sea-emily-hearn-musicbed.mp3"
       ]
      },
      {
       "output_type": "stream",
       "stream": "stdout",
       "text": [
        "\n",
        "little-bit-instrumental-perrin-lamb-musicbed.mp3"
       ]
      },
      {
       "output_type": "stream",
       "stream": "stdout",
       "text": [
        "\n",
        "louder-than-air-young-collective-musicbed.mp3"
       ]
      },
      {
       "output_type": "stream",
       "stream": "stdout",
       "text": [
        "\n",
        "make-it-happen-instrumental-the-likes-of-us-musicbed.mp3"
       ]
      },
      {
       "output_type": "stream",
       "stream": "stdout",
       "text": [
        "\n",
        "man-on-wire-steven-gutheinz-musicbed.mp3"
       ]
      },
      {
       "output_type": "stream",
       "stream": "stdout",
       "text": [
        "\n",
        "march-of-spring-jacob-montague-musicbed.mp3"
       ]
      },
      {
       "output_type": "stream",
       "stream": "stdout",
       "text": [
        "\n",
        "meadowlands-tolo-musicbed.mp3"
       ]
      },
      {
       "output_type": "stream",
       "stream": "stdout",
       "text": [
        "\n",
        "memories-to-come-jacob-montague-musicbed.mp3"
       ]
      },
      {
       "output_type": "stream",
       "stream": "stdout",
       "text": [
        "\n",
        "morning-light-instrumental-the-dirty-guvnahs-musicbed.mp3"
       ]
      },
      {
       "output_type": "stream",
       "stream": "stdout",
       "text": [
        "\n",
        "move-baby-move-billy-the-kid-emerson-musicbed.mp3"
       ]
      },
      {
       "output_type": "stream",
       "stream": "stdout",
       "text": [
        "\n",
        "move-instrumental-the-analog-affair-musicbed.mp3"
       ]
      },
      {
       "output_type": "stream",
       "stream": "stdout",
       "text": [
        "\n",
        "move-yourself-midnight-riot-musicbed.mp3"
       ]
      },
      {
       "output_type": "stream",
       "stream": "stdout",
       "text": [
        "\n",
        "multiplied-needtobreathe-musicbed.mp3"
       ]
      },
      {
       "output_type": "stream",
       "stream": "stdout",
       "text": [
        "\n",
        "neighbors-steven-gutheinz-musicbed.mp3"
       ]
      },
      {
       "output_type": "stream",
       "stream": "stdout",
       "text": [
        "\n",
        "night-is-bright-salomon-ligthelm-musicbed.mp3"
       ]
      },
      {
       "output_type": "stream",
       "stream": "stdout",
       "text": [
        "\n",
        "nothing-to-fear-dexter-britain-musicbed.mp3"
       ]
      },
      {
       "output_type": "stream",
       "stream": "stdout",
       "text": [
        "\n",
        "o-come-let-us-adore-him-instrumental-sisterbrother-musicbed.mp3"
       ]
      },
      {
       "output_type": "stream",
       "stream": "stdout",
       "text": [
        "\n",
        "our-style-animal-island-musicbed.mp3"
       ]
      },
      {
       "output_type": "stream",
       "stream": "stdout",
       "text": [
        "\n",
        "paradise-arcadia-musicbed.mp3"
       ]
      },
      {
       "output_type": "stream",
       "stream": "stdout",
       "text": [
        "\n",
        "punk-drop-zi-musicbed.mp3"
       ]
      },
      {
       "output_type": "stream",
       "stream": "stdout",
       "text": [
        "\n",
        "ray-of-sunshine-goldford-musicbed.mp3"
       ]
      },
      {
       "output_type": "stream",
       "stream": "stdout",
       "text": [
        "\n",
        "red-fire-night-green-river-ordinance-musicbed.mp3"
       ]
      },
      {
       "output_type": "stream",
       "stream": "stdout",
       "text": [
        "\n",
        "rest-josh-hoover-musicbed.mp3"
       ]
      },
      {
       "output_type": "stream",
       "stream": "stdout",
       "text": [
        "\n",
        "rise-tony-anderson-musicbed.mp3"
       ]
      },
      {
       "output_type": "stream",
       "stream": "stdout",
       "text": [
        "\n",
        "rising-fire-the-uncaged-sea-musicbed.mp3"
       ]
      },
      {
       "output_type": "stream",
       "stream": "stdout",
       "text": [
        "\n",
        "run-vows-musicbed.mp3"
       ]
      },
      {
       "output_type": "stream",
       "stream": "stdout",
       "text": [
        "\n",
        "safely-home-aj-hochhalter-musicbed.mp3"
       ]
      },
      {
       "output_type": "stream",
       "stream": "stdout",
       "text": [
        "\n"
       ]
      }
     ],
     "prompt_number": 5
    },
    {
     "cell_type": "code",
     "collapsed": true,
     "input": [
      "RemoveWatermarks(\"Sad\")"
     ],
     "language": "python",
     "metadata": {},
     "outputs": [],
     "prompt_number": null
    },
    {
     "cell_type": "code",
     "collapsed": true,
     "input": [
      "RemoveWatermarks(\"Tense\")"
     ],
     "language": "python",
     "metadata": {},
     "outputs": [],
     "prompt_number": null
    },
    {
     "cell_type": "code",
     "collapsed": true,
     "input": [
      "RemoveWatermarks(\"Angry\")"
     ],
     "language": "python",
     "metadata": {},
     "outputs": [],
     "prompt_number": null
    },
    {
     "cell_type": "code",
     "collapsed": false,
     "input": [
      "def GetNameTracks(nameFolder):\n",
      "    nameFolder = nameFolder\n",
      "    pathForClass = \"/media/sf_share/pressfoto/data/\" + nameFolder\n",
      "    os.chdir(pathForClass)\n",
      "    return glob.glob(\"*.wav\")"
     ],
     "language": "python",
     "metadata": {
      "scrolled": true
     },
     "outputs": [],
     "prompt_number": 2
    },
    {
     "cell_type": "code",
     "collapsed": false,
     "input": [
      "#\u0443\u0434\u0430\u043b\u044e \u043f\u0435\u0440\u0435\u0441\u0435\u0447\u0435\u043d\u0438\u0435 \u043a\u043b\u0430\u0441\u0441\u043e\u0432\n",
      "sadNames = GetNameTracks(\"Sad\")\n",
      "happyNames = GetNameTracks(\"Happy\")\n",
      "tenseNames = GetNameTracks(\"Tense\")\n",
      "angryNames = GetNameTracks(\"Angry\")"
     ],
     "language": "python",
     "metadata": {
      "scrolled": true
     },
     "outputs": [],
     "prompt_number": 50
    },
    {
     "cell_type": "code",
     "collapsed": false,
     "input": [
      "allNames = list(set(sadNames + happyNames + tenseNames + angryNames)) "
     ],
     "language": "python",
     "metadata": {
      "scrolled": true
     },
     "outputs": [],
     "prompt_number": 51
    },
    {
     "cell_type": "code",
     "collapsed": true,
     "input": [
      "len(allNames)"
     ],
     "language": "python",
     "metadata": {},
     "outputs": [
      {
       "metadata": {},
       "output_type": "pyout",
       "prompt_number": 56,
       "text": [
        "514"
       ]
      }
     ],
     "prompt_number": 56
    },
    {
     "cell_type": "code",
     "collapsed": false,
     "input": [
      "len(sadNames + happyNames + tenseNames + angryNames)"
     ],
     "language": "python",
     "metadata": {},
     "outputs": [
      {
       "metadata": {},
       "output_type": "pyout",
       "prompt_number": 57,
       "text": [
        "514"
       ]
      }
     ],
     "prompt_number": 57
    },
    {
     "cell_type": "code",
     "collapsed": true,
     "input": [],
     "language": "python",
     "metadata": {},
     "outputs": [],
     "prompt_number": 57
    },
    {
     "cell_type": "code",
     "collapsed": false,
     "input": [],
     "language": "python",
     "metadata": {},
     "outputs": [],
     "prompt_number": 60
    },
    {
     "cell_type": "code",
     "collapsed": false,
     "input": [],
     "language": "python",
     "metadata": {},
     "outputs": [],
     "prompt_number": 60
    },
    {
     "cell_type": "code",
     "collapsed": false,
     "input": [],
     "language": "python",
     "metadata": {},
     "outputs": [],
     "prompt_number": 60
    },
    {
     "cell_type": "code",
     "collapsed": false,
     "input": [],
     "language": "python",
     "metadata": {},
     "outputs": []
    }
   ],
   "metadata": {}
  }
 ]
}