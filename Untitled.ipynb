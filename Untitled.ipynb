{
 "cells": [
  {
   "cell_type": "code",
   "execution_count": 2,
   "metadata": {
    "collapsed": false
   },
   "outputs": [],
   "source": [
    "from __future__ import print_function\n",
    "import glob, os\n",
    "import pandas as pd\n",
    "import numpy as np\n",
    "import cPickle as pickle"
   ]
  },
  {
   "cell_type": "code",
   "execution_count": 4,
   "metadata": {
    "collapsed": false
   },
   "outputs": [],
   "source": [
    "name = \"targetSubsample.pickle\"\n",
    "with open(name, 'rb') as f:\n",
    "    target = pickle.load(f)\n",
    "name = \"trainSubsample.pickle\"\n",
    "with open(name, 'rb') as f:\n",
    "    train = pickle.load(f)"
   ]
  },
  {
   "cell_type": "code",
   "execution_count": 3,
   "metadata": {
    "collapsed": true
   },
   "outputs": [],
   "source": [
    "start = 100\n",
    "end = 200"
   ]
  },
  {
   "cell_type": "code",
   "execution_count": 4,
   "metadata": {
    "collapsed": false
   },
   "outputs": [],
   "source": [
    "trainSubsampleIndex = list(target[target.Angry == 1].index[start:end]) \\\n",
    "                + list(target[target.Sad == 1].index[start:end]) \\\n",
    "                + list(target[target.Tense == 1].index[start:end]) \\\n",
    "                + list(target[target.Happy == 1].index[start:end])\n",
    "for i in range(0, 4 * lenTrainClass):\n",
    "    trainSubsampleIndex[i] = int(trainSubsampleIndex[i])"
   ]
  },
  {
   "cell_type": "code",
   "execution_count": 5,
   "metadata": {
    "collapsed": false
   },
   "outputs": [],
   "source": [
    "trainSubsample = []\n",
    "for i in trainSubsampleIndex:\n",
    "    trainSubsample.append(train[i])\n",
    "trainSubsample = np.array(trainSubsample)"
   ]
  },
  {
   "cell_type": "code",
   "execution_count": 6,
   "metadata": {
    "collapsed": true
   },
   "outputs": [],
   "source": [
    "targetSubsample = np.concatenate((np.array([[1,0,0,0],]*lenTrainClass), np.array([[0,1,0,0],]*lenTrainClass)))\n",
    "targetSubsample = np.concatenate((targetSubsample, np.array([[0,0,1,0],]*lenTrainClass)))\n",
    "targetSubsample = np.concatenate((targetSubsample, np.array([[0,0,0,1],]*lenTrainClass)))"
   ]
  },
  {
   "cell_type": "code",
   "execution_count": null,
   "metadata": {
    "collapsed": true
   },
   "outputs": [],
   "source": [
    "with open('targetSubsample.pickle', 'wb') as f:\n",
    "    pickle.dump(targetSubsample, f, -1)"
   ]
  },
  {
   "cell_type": "code",
   "execution_count": null,
   "metadata": {
    "collapsed": true
   },
   "outputs": [],
   "source": [
    "with open('trainSubsample.pickle', 'wb') as f:\n",
    "    pickle.dump(trainSubsample, f, -1)"
   ]
  },
  {
   "cell_type": "code",
   "execution_count": 2,
   "metadata": {
    "collapsed": true
   },
   "outputs": [],
   "source": []
  },
  {
   "cell_type": "code",
   "execution_count": 1,
   "metadata": {
    "collapsed": true
   },
   "outputs": [],
   "source": []
  },
  {
   "cell_type": "code",
   "execution_count": null,
   "metadata": {
    "collapsed": true
   },
   "outputs": [],
   "source": []
  },
  {
   "cell_type": "code",
   "execution_count": null,
   "metadata": {
    "collapsed": true
   },
   "outputs": [],
   "source": []
  },
  {
   "cell_type": "code",
   "execution_count": null,
   "metadata": {
    "collapsed": true
   },
   "outputs": [],
   "source": []
  }
 ],
 "metadata": {
  "kernelspec": {
   "display_name": "Python 2",
   "language": "python",
   "name": "python2"
  },
  "language_info": {
   "codemirror_mode": {
    "name": "ipython",
    "version": 2
   },
   "file_extension": ".py",
   "mimetype": "text/x-python",
   "name": "python",
   "nbconvert_exporter": "python",
   "pygments_lexer": "ipython2",
   "version": "2.7.6"
  }
 },
 "nbformat": 4,
 "nbformat_minor": 0
}
